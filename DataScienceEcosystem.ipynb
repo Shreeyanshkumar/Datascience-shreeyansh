{
 "cells": [
  {
   "cell_type": "markdown",
   "id": "358ce85a-30aa-4835-a8e0-29d63b1413c8",
   "metadata": {
    "tags": []
   },
   "source": [
    "<center><h1>Data Science Tools and Ecosystem<h1></center>"
   ]
  },
  {
   "cell_type": "markdown",
   "id": "e1e112ab-4c52-44bc-b8fa-e7474395f179",
   "metadata": {},
   "source": [
    "<h2>In this notebook, Data Science Tools and Ecosystem are summarized.<h2>"
   ]
  },
  {
   "cell_type": "markdown",
   "id": "2abd2eb9-1ba6-4ed0-b82e-3dbf8f688cdf",
   "metadata": {},
   "source": [
    "<h2>Objectives:<h2>\n",
    "    <p>->Some popular languages of Data Science<p>\n",
    "    <p>->Library for Data Science<p>\n",
    "    <p>->Data Science Tools<p>"
   ]
  },
  {
   "cell_type": "markdown",
   "id": "ec55fe5f-7f5f-4324-afc2-f02165307c6d",
   "metadata": {
    "tags": []
   },
   "source": [
    "<h3>Some of the popular languages that Data Scientists use are :</h3>\n",
    "   <p>1.Python.</p>\n",
    "    <p>2.R.</p>\n",
    "    <p>3.SQL.</p>"
   ]
  },
  {
   "cell_type": "markdown",
   "id": "2d29bd6c-c812-4ef2-9fe4-21db3878d0c6",
   "metadata": {},
   "source": [
    "<h3>Some of the commonly used libraries used by Data Scientists include:<h3>\n",
    "    <p>1.NumPy<p>\n",
    "        <p>2.Pandas<p>\n",
    "            <p>3.Matplotlib<p>"
   ]
  },
  {
   "cell_type": "markdown",
   "id": "6730f75e-e2c5-431f-9b28-e7aa082f7362",
   "metadata": {},
   "source": [
    "|Data Science Tools|\n",
    "|---|\n",
    "|IBM Watson|\n",
    "|Jupyter Notebook|\n",
    "|H2OAir|"
   ]
  },
  {
   "cell_type": "markdown",
   "id": "98df933a-2804-4d04-a67a-90bcf58b62f2",
   "metadata": {
    "tags": []
   },
   "source": [
    "<h3>Below are a few examples of evaluating arithmetic expressions in Python.<h3>"
   ]
  },
  {
   "cell_type": "code",
   "execution_count": 18,
   "id": "adc86990-9e20-4e88-a44d-2e91a746a3d6",
   "metadata": {
    "tags": []
   },
   "outputs": [
    {
     "data": {
      "text/plain": [
       "17"
      ]
     },
     "execution_count": 18,
     "metadata": {},
     "output_type": "execute_result"
    }
   ],
   "source": [
    "(3*4)+5 #This a simple arithmetic expression to mutiply then add integers"
   ]
  },
  {
   "cell_type": "code",
   "execution_count": 19,
   "id": "1e1451ef-333f-4958-a780-d268f95ebbe4",
   "metadata": {
    "tags": []
   },
   "outputs": [
    {
     "data": {
      "text/plain": [
       "3.3333333333333335"
      ]
     },
     "execution_count": 19,
     "metadata": {},
     "output_type": "execute_result"
    }
   ],
   "source": [
    "#This will convert 200 minutes to hours by diving by 60\n",
    "200/60"
   ]
  },
  {
   "cell_type": "markdown",
   "id": "0dd2f6b6-66b0-4fd5-ab01-7ee522778f93",
   "metadata": {},
   "source": [
    "<h2>Author<h2>\n",
    "<p>Shreeyansh kumar<p>"
   ]
  },
  {
   "cell_type": "code",
   "execution_count": null,
   "id": "8f852240-29f6-4b7f-9574-7e8d18c41018",
   "metadata": {},
   "outputs": [],
   "source": []
  }
 ],
 "metadata": {
  "kernelspec": {
   "display_name": "Python",
   "language": "python",
   "name": "conda-env-python-py"
  },
  "language_info": {
   "codemirror_mode": {
    "name": "ipython",
    "version": 3
   },
   "file_extension": ".py",
   "mimetype": "text/x-python",
   "name": "python",
   "nbconvert_exporter": "python",
   "pygments_lexer": "ipython3",
   "version": "3.7.12"
  }
 },
 "nbformat": 4,
 "nbformat_minor": 5
}
